{
  "nbformat": 4,
  "nbformat_minor": 0,
  "metadata": {
    "colab": {
      "name": "assgn2_BelfinJoy_AI0121_DL_model.ipynb",
      "version": "0.3.2",
      "provenance": [],
      "collapsed_sections": [],
      "include_colab_link": true
    },
    "kernelspec": {
      "name": "python3",
      "display_name": "Python 3"
    }
  },
  "cells": [
    {
      "cell_type": "markdown",
      "metadata": {
        "id": "view-in-github",
        "colab_type": "text"
      },
      "source": [
        "<a href=\"https://colab.research.google.com/github/BelfinJoy89/pytorch/blob/master/assgn2_BelfinJoy_AI0121_DL_model.ipynb\" target=\"_parent\"><img src=\"https://colab.research.google.com/assets/colab-badge.svg\" alt=\"Open In Colab\"/></a>"
      ]
    },
    {
      "cell_type": "code",
      "metadata": {
        "id": "f42Ni2YCG-zH",
        "colab_type": "code",
        "outputId": "7dc12cee-7ac3-40f0-e37f-6807fec343c4",
        "colab": {
          "base_uri": "https://localhost:8080/",
          "height": 35
        }
      },
      "source": [
        "!pip install -q torch==1.2.0 torchvision\n"
      ],
      "execution_count": 0,
      "outputs": [
        {
          "output_type": "stream",
          "text": [
            "\u001b[K     |████████████████████████████████| 748.9MB 17kB/s \n",
            "\u001b[?25h"
          ],
          "name": "stdout"
        }
      ]
    },
    {
      "cell_type": "code",
      "metadata": {
        "id": "Xp5nAgKCOTDX",
        "colab_type": "code",
        "outputId": "4e5e1cae-3632-4039-edc1-db8647606531",
        "colab": {
          "base_uri": "https://localhost:8080/",
          "height": 268
        }
      },
      "source": [
        "!pip install --upgrade torchvision"
      ],
      "execution_count": 0,
      "outputs": [
        {
          "output_type": "stream",
          "text": [
            "Collecting torchvision\n",
            "\u001b[?25l  Downloading https://files.pythonhosted.org/packages/06/e6/a564eba563f7ff53aa7318ff6aaa5bd8385cbda39ed55ba471e95af27d19/torchvision-0.4.0-cp36-cp36m-manylinux1_x86_64.whl (8.8MB)\n",
            "\u001b[K     |████████████████████████████████| 8.8MB 4.6MB/s \n",
            "\u001b[?25hRequirement already satisfied, skipping upgrade: pillow>=4.1.1 in /usr/local/lib/python3.6/dist-packages (from torchvision) (4.3.0)\n",
            "Requirement already satisfied, skipping upgrade: torch==1.2.0 in /usr/local/lib/python3.6/dist-packages (from torchvision) (1.2.0)\n",
            "Requirement already satisfied, skipping upgrade: numpy in /usr/local/lib/python3.6/dist-packages (from torchvision) (1.16.4)\n",
            "Requirement already satisfied, skipping upgrade: six in /usr/local/lib/python3.6/dist-packages (from torchvision) (1.12.0)\n",
            "Requirement already satisfied, skipping upgrade: olefile in /usr/local/lib/python3.6/dist-packages (from pillow>=4.1.1->torchvision) (0.46)\n",
            "Installing collected packages: torchvision\n",
            "  Found existing installation: torchvision 0.3.0\n",
            "    Uninstalling torchvision-0.3.0:\n",
            "      Successfully uninstalled torchvision-0.3.0\n",
            "Successfully installed torchvision-0.4.0\n"
          ],
          "name": "stdout"
        }
      ]
    },
    {
      "cell_type": "code",
      "metadata": {
        "id": "WipyeOhRKCGm",
        "colab_type": "code",
        "outputId": "701a5eb6-bd92-46f4-b109-3a50004f9135",
        "colab": {
          "base_uri": "https://localhost:8080/",
          "height": 35
        }
      },
      "source": [
        "import torch\n",
        "torch.__version__"
      ],
      "execution_count": 0,
      "outputs": [
        {
          "output_type": "execute_result",
          "data": {
            "text/plain": [
              "'1.2.0'"
            ]
          },
          "metadata": {
            "tags": []
          },
          "execution_count": 26
        }
      ]
    },
    {
      "cell_type": "code",
      "metadata": {
        "id": "p9QF6e_qRJXf",
        "colab_type": "code",
        "colab": {}
      },
      "source": [
        "!unzip -q '/content/AI_CV_assignment2.zip'"
      ],
      "execution_count": 0,
      "outputs": []
    },
    {
      "cell_type": "code",
      "metadata": {
        "id": "z7GaqBJ8NyyG",
        "colab_type": "code",
        "colab": {}
      },
      "source": [
        "import torch.nn as nn\n",
        "import torch.nn.functional as F\n",
        "\n",
        "class Net(nn.Module):\n",
        "  \n",
        "  def __init__(self,num_classes = 20):\n",
        "    super(Net, self).__init__()\n",
        "    print(\"Inside __Init__\")\n",
        "    self.conv1 = nn.Conv2d(in_channels=3, out_channels=64,kernel_size=3,stride=1)\n",
        "    self.bn1   = nn.BatchNorm2d(64)\n",
        "    \n",
        "    self.conv2 = nn.Conv2d(64,64,kernel_size = 3, stride = 1)\n",
        "    self.bn2   = nn.BatchNorm2d(64)\n",
        "    \n",
        "    self.conv3 = nn.Conv2d(64,128,kernel_size = 3, stride = 1)\n",
        "    self.bn3   = nn.BatchNorm2d(128)\n",
        "    \n",
        "    self.conv4 = nn.Conv2d(128,128,kernel_size = 3, stride = 1)\n",
        "    self.bn4   = nn.BatchNorm2d(128)\n",
        "    \n",
        "    self.fc1   = nn.Linear(128*6*6, out_features=20)\n",
        "    self.bn5   = nn.BatchNorm1d(20)\n",
        "    \n",
        "  def forward(self,x):\n",
        "    \n",
        "    out = self.conv1(x)\n",
        "    out = F.relu(self.bn1(out))\n",
        "    out = F.max_pool2d(out, 2)\n",
        "    \n",
        "    out = self.conv2(out)\n",
        "    out = F.relu(self.bn2(out))\n",
        "    out = F.max_pool2d(out, 2)\n",
        "    \n",
        "    out = self.conv3(out)\n",
        "    out = F.relu(self.bn3(out))\n",
        "    out = F.max_pool2d(out,2)\n",
        "    \n",
        "    out = self.conv4(out)\n",
        "    out = F.relu(self.bn4(out))\n",
        "    out = F.max_pool2d(out,2)\n",
        "    \n",
        "    #print(\"Out Shape\", out.shape)\n",
        "    out = out.view(out.size(0),-1)\n",
        "    #print(\"Out shape after flatten\", out.shape)\n",
        "    \n",
        "    out = self.fc1(out)\n",
        "    out = F.relu(self.bn5(out))\n",
        "    return out\n",
        "  \n",
        "\n",
        "def net(**kwargs):\n",
        "  model = Net(**kwargs)\n",
        "  return model"
      ],
      "execution_count": 0,
      "outputs": []
    },
    {
      "cell_type": "code",
      "metadata": {
        "id": "ZJHKbwo-QyOy",
        "colab_type": "code",
        "outputId": "c9f1b9af-5d23-4df9-89f2-03bb90d9bf37",
        "colab": {
          "base_uri": "https://localhost:8080/",
          "height": 248
        }
      },
      "source": [
        "model = net(num_classes = 20)\n",
        "print(model)"
      ],
      "execution_count": 0,
      "outputs": [
        {
          "output_type": "stream",
          "text": [
            "Inside __Init__\n",
            "Net(\n",
            "  (conv1): Conv2d(3, 64, kernel_size=(3, 3), stride=(1, 1))\n",
            "  (bn1): BatchNorm2d(64, eps=1e-05, momentum=0.1, affine=True, track_running_stats=True)\n",
            "  (conv2): Conv2d(64, 64, kernel_size=(3, 3), stride=(1, 1))\n",
            "  (bn2): BatchNorm2d(64, eps=1e-05, momentum=0.1, affine=True, track_running_stats=True)\n",
            "  (conv3): Conv2d(64, 128, kernel_size=(3, 3), stride=(1, 1))\n",
            "  (bn3): BatchNorm2d(128, eps=1e-05, momentum=0.1, affine=True, track_running_stats=True)\n",
            "  (conv4): Conv2d(128, 128, kernel_size=(3, 3), stride=(1, 1))\n",
            "  (bn4): BatchNorm2d(128, eps=1e-05, momentum=0.1, affine=True, track_running_stats=True)\n",
            "  (fc1): Linear(in_features=4608, out_features=20, bias=True)\n",
            "  (bn5): BatchNorm1d(20, eps=1e-05, momentum=0.1, affine=True, track_running_stats=True)\n",
            ")\n"
          ],
          "name": "stdout"
        }
      ]
    },
    {
      "cell_type": "code",
      "metadata": {
        "id": "VERfyB9jQ25m",
        "colab_type": "code",
        "outputId": "e04b42df-f6fa-4682-ed0b-fa9726b23b70",
        "colab": {
          "base_uri": "https://localhost:8080/",
          "height": 959
        }
      },
      "source": [
        "from torchvision import datasets, transforms\n",
        "import torch\n",
        "import numpy as np\n",
        "\n",
        "\n",
        "train_root = \"/content/AI_CV/Train\"\n",
        "\n",
        "\n",
        "dataset_train = datasets.ImageFolder(root = train_root,\n",
        "                                          transform=transforms.Compose([\n",
        "                                          transforms.Resize(128),\n",
        "                                          transforms.ToTensor(),\n",
        "                                          transforms.Normalize([0.2545,0.2545,0.2545],[0.3846,0.3846,0.3846])\n",
        "                                          ]))\n",
        "\n",
        "print(len(dataset_train))\n",
        "\n",
        "test_root = \"/content/AI_CV/Test\"\n",
        "dataset_test = datasets.ImageFolder(root = test_root,\n",
        "                                          transform=transforms.Compose([\n",
        "                                          transforms.Resize(128),\n",
        "                                          transforms.ToTensor(),\n",
        "                                          transforms.Normalize([0.2545,0.2545,0.2545],[0.3846,0.3846,0.3846])\n",
        "                                          ]))\n",
        "print(len(dataset_test))\n",
        "\n",
        "dataloaders = torch.utils.data.DataLoader(\n",
        "            dataset_train,\n",
        "            batch_size=25, shuffle=True, num_workers=1)\n",
        "\n",
        "dataloaders_test = torch.utils.data.DataLoader(\n",
        "            dataset_test,\n",
        "            batch_size=25, shuffle=True, num_workers=1)\n",
        "\n",
        "\n",
        "#print(len(dataloaders))\n",
        "for i, data in enumerate(dataloaders):\n",
        "        inputs,labels = data\n",
        "        print(np.array(inputs).shape)\n",
        "\n",
        "print(\"Loaded {} images under {}\".format(len(dataset_train), \"train\"))\n",
        "print(\"Loaded {} images under {}\".format(len(dataset_test), \"test\"))\n",
        "print(\"Classes: \")\n",
        "class_names = dataset_train.classes\n",
        "print(dataset_train.classes)\n",
        "#print(len(dataset_train[0]))"
      ],
      "execution_count": 0,
      "outputs": [
        {
          "output_type": "stream",
          "text": [
            "1157\n",
            "277\n",
            "(25, 3, 128, 128)\n",
            "(25, 3, 128, 128)\n",
            "(25, 3, 128, 128)\n",
            "(25, 3, 128, 128)\n",
            "(25, 3, 128, 128)\n",
            "(25, 3, 128, 128)\n",
            "(25, 3, 128, 128)\n",
            "(25, 3, 128, 128)\n",
            "(25, 3, 128, 128)\n",
            "(25, 3, 128, 128)\n",
            "(25, 3, 128, 128)\n",
            "(25, 3, 128, 128)\n",
            "(25, 3, 128, 128)\n",
            "(25, 3, 128, 128)\n",
            "(25, 3, 128, 128)\n",
            "(25, 3, 128, 128)\n",
            "(25, 3, 128, 128)\n",
            "(25, 3, 128, 128)\n",
            "(25, 3, 128, 128)\n",
            "(25, 3, 128, 128)\n",
            "(25, 3, 128, 128)\n",
            "(25, 3, 128, 128)\n",
            "(25, 3, 128, 128)\n",
            "(25, 3, 128, 128)\n",
            "(25, 3, 128, 128)\n",
            "(25, 3, 128, 128)\n",
            "(25, 3, 128, 128)\n",
            "(25, 3, 128, 128)\n",
            "(25, 3, 128, 128)\n",
            "(25, 3, 128, 128)\n",
            "(25, 3, 128, 128)\n",
            "(25, 3, 128, 128)\n",
            "(25, 3, 128, 128)\n",
            "(25, 3, 128, 128)\n",
            "(25, 3, 128, 128)\n",
            "(25, 3, 128, 128)\n",
            "(25, 3, 128, 128)\n",
            "(25, 3, 128, 128)\n",
            "(25, 3, 128, 128)\n",
            "(25, 3, 128, 128)\n",
            "(25, 3, 128, 128)\n",
            "(25, 3, 128, 128)\n",
            "(25, 3, 128, 128)\n",
            "(25, 3, 128, 128)\n",
            "(25, 3, 128, 128)\n",
            "(25, 3, 128, 128)\n",
            "(7, 3, 128, 128)\n",
            "Loaded 1157 images under train\n",
            "Loaded 277 images under test\n",
            "Classes: \n",
            "['0', '1', '10', '11', '12', '13', '14', '15', '16', '17', '18', '19', '2', '3', '4', '5', '6', '7', '8', '9']\n"
          ],
          "name": "stdout"
        }
      ]
    },
    {
      "cell_type": "code",
      "metadata": {
        "id": "Mzeby6WwE2Hq",
        "colab_type": "code",
        "outputId": "933bc333-2067-41e1-c68d-8f137e147b75",
        "colab": {
          "base_uri": "https://localhost:8080/",
          "height": 274
        }
      },
      "source": [
        "import torchvision\n",
        "import matplotlib.pyplot as plt\n",
        "def imshow(inp, title=None):\n",
        "    inp = inp.numpy().transpose((1, 2, 0))\n",
        "    # plt.figure(figsize=(10, 10))\n",
        "    plt.axis('off')\n",
        "    plt.imshow(inp)\n",
        "    if title is not None:\n",
        "        plt.title(title)\n",
        "    plt.pause(0.001)\n",
        "\n",
        "def show_databatch(inputs, classes):\n",
        "    out = torchvision.utils.make_grid(inputs,7)\n",
        "    imshow(out, title=[class_names[x] for x in classes])\n",
        "\n",
        "# Get a batch of training data\n",
        "inputs, classes = next(iter(dataloaders))\n",
        "show_databatch(inputs, classes)\n",
        "\n",
        "#for i, data in enumerate(dataloaders))\n",
        "#print(train[0])"
      ],
      "execution_count": 0,
      "outputs": [
        {
          "output_type": "stream",
          "text": [
            "Clipping input data to the valid range for imshow with RGB data ([0..1] for floats or [0..255] for integers).\n"
          ],
          "name": "stderr"
        },
        {
          "output_type": "display_data",
          "data": {
            "image/png": "[encoded data removed]",
            "text/plain": [
              "<Figure size 432x288 with 1 Axes>"
            ]
          },
          "metadata": {
            "tags": []
          }
        }
      ]
    },
    {
      "cell_type": "code",
      "metadata": {
        "id": "qJsaVagNVehc",
        "colab_type": "code",
        "colab": {}
      },
      "source": [
        "import time\n",
        "import copy\n",
        "\n",
        "\n",
        "def train(model,criterion,optimizer,scheduler,num_epochs = 10):\n",
        "  since = time.time()\n",
        "  best_model_wts = copy.deepcopy(model.state_dict())\n",
        "  best_acc = 0.0\n",
        "  \n",
        "  avg_loss = 0.0\n",
        "  avg_acc = 0.0\n",
        "  avg_loss_test = 0.0\n",
        "  avg_acc_test = 0.0\n",
        "  \n",
        "  train_batches = len(dataloaders)\n",
        "  test_batches = len(dataloaders_test)\n",
        "  \n",
        "  for epoch in range(num_epochs):\n",
        "    print(\"Epoch {}/{}\".format(epoch, num_epochs))\n",
        "    print('-' * 10)\n",
        "    \n",
        "    loss_train = 0\n",
        "    loss_test = 0\n",
        "    acc_train = 0\n",
        "    acc_test = 0\n",
        "    \n",
        "    model.train(True)\n",
        "    \n",
        "    for i,data in enumerate(dataloaders):\n",
        "      inputs,labels = data\n",
        "      \n",
        "      if use_gpu:\n",
        "        inputs,labels = Variable(inputs.cuda()), Variable(labels.cuda())\n",
        "      else:\n",
        "        inputs,labels = Variable(inputs), Variable(labels)\n",
        "        \n",
        "      optimizer.zero_grad()\n",
        "      outputs = model(inputs)\n",
        "      \n",
        "      _,preds = torch.max(outputs.data, 1)\n",
        "      loss = criterion(outputs,labels)\n",
        "      \n",
        "      loss.backward()\n",
        "      optimizer.step()\n",
        "      \n",
        "      loss_train += loss.data\n",
        "      acc_train += torch.sum(preds == labels.data)\n",
        "      \n",
        "      del inputs, labels,outputs, preds\n",
        "      torch.cuda.empty_cache()\n",
        "      \n",
        "    print()\n",
        "    \n",
        "    avg_loss = loss_train / len(dataset_train)\n",
        "    print(10*\"*\")\n",
        "    avg_acc = float(acc_train.data) / float(len(dataset_train))\n",
        "    \n",
        "    model.train(False)\n",
        "    \n",
        "    model.eval()\n",
        "    \n",
        "    for i,data in enumerate(dataloaders_test):\n",
        "      \n",
        "      inputs, labels = data\n",
        "      \n",
        "      if use_gpu:\n",
        "        inputs,labels = Variable(inputs.cuda(), volatile = True), Variable(labels.cuda(), volatile = True)\n",
        "      else:\n",
        "        inputs,labels = Variable(inputs, volatile=True), Variable(labels, volatile=True)\n",
        "        \n",
        "      optimizer.zero_grad()\n",
        "      outputs = model(inputs)\n",
        "      \n",
        "      _, preds = torch.max(outputs.data, 1)\n",
        "      loss = criterion(outputs, labels)\n",
        "      \n",
        "      loss_test += loss.data\n",
        "      acc_test += torch.sum(preds == labels.data)\n",
        "            \n",
        "      del inputs, labels, outputs, preds\n",
        "      torch.cuda.empty_cache()\n",
        "    \n",
        "    avg_loss_test = (loss_test)/len(dataset_test)\n",
        "    avg_acc_test = float(acc_test)/float(len(dataset_test))\n",
        "    \n",
        "    print()\n",
        "    print(\"Epoch {} result: \".format(epoch))\n",
        "    print(\"Avg loss (train): {:.4f}\".format(avg_loss))\n",
        "    print(\"Avg acc (train): {:.4f}\".format(avg_acc))\n",
        "    print(\"Avg loss (test): {:.4f}\".format(avg_loss_test))\n",
        "    print(\"Avg acc (test): {:.4f}\".format(avg_acc_test))\n",
        "    print('-' * 10)\n",
        "    print()\n",
        "    \n",
        "    if avg_acc_test > best_acc:\n",
        "      best_acc = avg_acc_test\n",
        "      best_model_wts = copy.deepcopy(model.state_dict())\n",
        "\n",
        "  elapsed_time =  time.time() - since\n",
        "  print()\n",
        "  print(\"Training completed in {:.0f}m {:.0f}s\".format(elapsed_time // 60, elapsed_time % 60))\n",
        "  print(\"Best acc: {:.4f}\".format(best_acc))\n",
        "  \n",
        "  model.load_state_dict(best_model_wts)\n",
        "  return model"
      ],
      "execution_count": 0,
      "outputs": []
    },
    {
      "cell_type": "code",
      "metadata": {
        "id": "mGto_TOdZLn9",
        "colab_type": "code",
        "outputId": "66b9bf8c-d192-4c13-9df6-697e0d5bb5f2",
        "colab": {
          "base_uri": "https://localhost:8080/",
          "height": 1000
        }
      },
      "source": [
        "import torch.optim as optim\n",
        "from torch.optim import lr_scheduler\n",
        "from torch.autograd import Variable\n",
        "\n",
        "use_gpu = torch.cuda.is_available()\n",
        "\n",
        "if use_gpu:\n",
        "  model.cuda()\n",
        "\n",
        "for param in model.parameters():\n",
        "  param.requires_grad = True\n",
        "  \n",
        "criterion = nn.CrossEntropyLoss()\n",
        "\n",
        "optimizer_ft = optim.SGD(model.parameters(),lr = 0.001, momentum = 0.9)\n",
        "lr_scheduler = lr_scheduler.StepLR(optimizer_ft, step_size = 7, gamma = 0.1)\n",
        "\n",
        "test = model.eval()\n",
        "\n",
        "print(\"Training\")\n",
        "train(model,criterion, optimizer_ft, lr_scheduler, 10)"
      ],
      "execution_count": 0,
      "outputs": [
        {
          "output_type": "stream",
          "text": [
            "Training\n",
            "Epoch 0/10\n",
            "----------\n",
            "\n",
            "**********\n"
          ],
          "name": "stdout"
        },
        {
          "output_type": "stream",
          "text": [
            "/usr/local/lib/python3.6/dist-packages/ipykernel_launcher.py:69: UserWarning: volatile was removed and now has no effect. Use `with torch.no_grad():` instead.\n"
          ],
          "name": "stderr"
        },
        {
          "output_type": "stream",
          "text": [
            "\n",
            "Epoch 0 result: \n",
            "Avg loss (train): 0.0558\n",
            "Avg acc (train): 0.7770\n",
            "Avg loss (test): 0.0594\n",
            "Avg acc (test): 0.7978\n",
            "----------\n",
            "\n",
            "Epoch 1/10\n",
            "----------\n",
            "\n",
            "**********\n",
            "\n",
            "Epoch 1 result: \n",
            "Avg loss (train): 0.0329\n",
            "Avg acc (train): 0.9326\n",
            "Avg loss (test): 0.0344\n",
            "Avg acc (test): 0.9134\n",
            "----------\n",
            "\n",
            "Epoch 2/10\n",
            "----------\n",
            "\n",
            "**********\n",
            "\n",
            "Epoch 2 result: \n",
            "Avg loss (train): 0.0291\n",
            "Avg acc (train): 0.9490\n",
            "Avg loss (test): 0.0345\n",
            "Avg acc (test): 0.8809\n",
            "----------\n",
            "\n",
            "Epoch 3/10\n",
            "----------\n",
            "\n",
            "**********\n",
            "\n",
            "Epoch 3 result: \n",
            "Avg loss (train): 0.0277\n",
            "Avg acc (train): 0.9464\n",
            "Avg loss (test): 0.0375\n",
            "Avg acc (test): 0.9134\n",
            "----------\n",
            "\n",
            "Epoch 4/10\n",
            "----------\n",
            "\n",
            "**********\n",
            "\n",
            "Epoch 4 result: \n",
            "Avg loss (train): 0.0275\n",
            "Avg acc (train): 0.9507\n",
            "Avg loss (test): 0.0320\n",
            "Avg acc (test): 0.9134\n",
            "----------\n",
            "\n",
            "Epoch 5/10\n",
            "----------\n",
            "\n",
            "**********\n",
            "\n",
            "Epoch 5 result: \n",
            "Avg loss (train): 0.0243\n",
            "Avg acc (train): 0.9542\n",
            "Avg loss (test): 0.0321\n",
            "Avg acc (test): 0.8953\n",
            "----------\n",
            "\n",
            "Epoch 6/10\n",
            "----------\n",
            "\n",
            "**********\n",
            "\n",
            "Epoch 6 result: \n",
            "Avg loss (train): 0.0248\n",
            "Avg acc (train): 0.9525\n",
            "Avg loss (test): 0.0276\n",
            "Avg acc (test): 0.9097\n",
            "----------\n",
            "\n",
            "Epoch 7/10\n",
            "----------\n",
            "\n",
            "**********\n",
            "\n",
            "Epoch 7 result: \n",
            "Avg loss (train): 0.0242\n",
            "Avg acc (train): 0.9525\n",
            "Avg loss (test): 0.0283\n",
            "Avg acc (test): 0.9061\n",
            "----------\n",
            "\n",
            "Epoch 8/10\n",
            "----------\n",
            "\n",
            "**********\n",
            "\n",
            "Epoch 8 result: \n",
            "Avg loss (train): 0.0243\n",
            "Avg acc (train): 0.9551\n",
            "Avg loss (test): 0.0292\n",
            "Avg acc (test): 0.9061\n",
            "----------\n",
            "\n",
            "Epoch 9/10\n",
            "----------\n",
            "\n",
            "**********\n",
            "\n",
            "Epoch 9 result: \n",
            "Avg loss (train): 0.0211\n",
            "Avg acc (train): 0.9551\n",
            "Avg loss (test): 0.0283\n",
            "Avg acc (test): 0.9061\n",
            "----------\n",
            "\n",
            "\n",
            "Training completed in 14m 28s\n",
            "Best acc: 0.9134\n"
          ],
          "name": "stdout"
        },
        {
          "output_type": "execute_result",
          "data": {
            "text/plain": [
              "Net(\n",
              "  (conv1): Conv2d(3, 64, kernel_size=(3, 3), stride=(1, 1))\n",
              "  (bn1): BatchNorm2d(64, eps=1e-05, momentum=0.1, affine=True, track_running_stats=True)\n",
              "  (conv2): Conv2d(64, 64, kernel_size=(3, 3), stride=(1, 1))\n",
              "  (bn2): BatchNorm2d(64, eps=1e-05, momentum=0.1, affine=True, track_running_stats=True)\n",
              "  (conv3): Conv2d(64, 128, kernel_size=(3, 3), stride=(1, 1))\n",
              "  (bn3): BatchNorm2d(128, eps=1e-05, momentum=0.1, affine=True, track_running_stats=True)\n",
              "  (conv4): Conv2d(128, 128, kernel_size=(3, 3), stride=(1, 1))\n",
              "  (bn4): BatchNorm2d(128, eps=1e-05, momentum=0.1, affine=True, track_running_stats=True)\n",
              "  (fc1): Linear(in_features=4608, out_features=20, bias=True)\n",
              "  (bn5): BatchNorm1d(20, eps=1e-05, momentum=0.1, affine=True, track_running_stats=True)\n",
              ")"
            ]
          },
          "metadata": {
            "tags": []
          },
          "execution_count": 35
        }
      ]
    },
    {
      "cell_type": "code",
      "metadata": {
        "id": "nE95a4pKIzfN",
        "colab_type": "code",
        "colab": {}
      },
      "source": [
        "torch.save(model.state_dict(), 'assgn2_BelfinJoy_AI0121_DL_chkpt.pt')"
      ],
      "execution_count": 0,
      "outputs": []
    },
    {
      "cell_type": "code",
      "metadata": {
        "id": "D_FFfaQPQA5c",
        "colab_type": "code",
        "colab": {}
      },
      "source": [
        "from google.colab import files\n",
        "files.download('assgn2_BelfinJoy_AI0121_DL_chkpt.pt')"
      ],
      "execution_count": 0,
      "outputs": []
    },
    {
      "cell_type": "code",
      "metadata": {
        "id": "_3d_Rm6pQYDp",
        "colab_type": "code",
        "colab": {}
      },
      "source": [
        ""
      ],
      "execution_count": 0,
      "outputs": []
    }
  ]
}